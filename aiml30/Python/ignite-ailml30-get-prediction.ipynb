{
 "cells": [
  {
   "cell_type": "markdown",
   "metadata": {},
   "source": [
    "# Import packages"
   ]
  },
  {
   "cell_type": "code",
   "execution_count": null,
   "metadata": {},
   "outputs": [],
   "source": [
    "import pandas as pd\n",
    "import numpy as np\n",
    "import matplotlib.pyplot as plt\n",
    "import seaborn as sns\n",
    "import math\n",
    "import datetime\n",
    "import holidays\n",
    "import warnings\n",
    "warnings.filterwarnings('ignore')\n",
    "\n",
    "# Set Country holidays\n",
    "us_holidays = holidays.US()"
   ]
  },
  {
   "cell_type": "markdown",
   "metadata": {},
   "source": [
    "# Load Data"
   ]
  },
  {
   "cell_type": "code",
   "execution_count": null,
   "metadata": {},
   "outputs": [],
   "source": [
    "#File path to the csv file\n",
    "csv_file = \"<path to>\\ForecastingData.csv\"\n",
    "\n",
    "# Read csv file into dataframe\n",
    "df = pd.read_csv(csv_file)\n",
    "\n",
    "# Print first 5 rows in the dataframe\n",
    "df.head()"
   ]
  },
  {
   "cell_type": "code",
   "execution_count": null,
   "metadata": {},
   "outputs": [],
   "source": [
    "# OR CONNECT TO YOUR DATASET IN AZURE MACHINE LEARNING\n",
    "#from azureml.core import Workspace, Dataset\n",
    "\n",
    "#ws = Workspace.from_config()\n",
    "\n",
    "#dataset = Dataset.get_by_name(ws, name='<enter dataset name from AML here>')\n",
    "#df = dataset.to_pandas_dataframe()\n",
    "#df.head()"
   ]
  },
  {
   "cell_type": "markdown",
   "metadata": {},
   "source": [
    "# Filter by the store and item IDs to predict"
   ]
  },
  {
   "cell_type": "code",
   "execution_count": null,
   "metadata": {},
   "outputs": [],
   "source": [
    "#Ids to Predict\n",
    "ID1 = 2\n",
    "ID2 = 1\n",
    "#filter list to ids we want to predict\n",
    "df = df.loc[(df['ID1'] == ID1) & (df['ID2'] == ID2)]\n",
    "\n",
    "df.head()"
   ]
  },
  {
   "cell_type": "markdown",
   "metadata": {},
   "source": [
    "# Create future 4 weeks for predictions"
   ]
  },
  {
   "cell_type": "code",
   "execution_count": null,
   "metadata": {},
   "outputs": [],
   "source": [
    "#format time columns\n",
    "#sort df by time\n",
    "df['Time']=pd.to_datetime(df['Time'].astype(str))\n",
    "df = df.sort_values(by='Time')"
   ]
  },
  {
   "cell_type": "code",
   "execution_count": null,
   "metadata": {},
   "outputs": [],
   "source": [
    "#get last date from df\n",
    "\n",
    "lastdate  = df['Time'].iloc[-1].date()\n",
    "print(lastdate)"
   ]
  },
  {
   "cell_type": "code",
   "execution_count": null,
   "metadata": {},
   "outputs": [],
   "source": [
    "#add next four week dates\n",
    "#loop thru range of numbers by 7 up to 34 skip by 7\n",
    "for days in range(7,34,7):\n",
    "    #append new date to existing df\n",
    "    df = df.append({'ID1' : ID1, \n",
    "                    'ID2' : ID2, \n",
    "                    'Time':(lastdate + datetime.timedelta(days=days)), \n",
    "                    'Value':0,\n",
    "                    'RDPI': df['RDPI'].iloc[-1],\n",
    "                    'IsUsNewYearsDay': False,\n",
    "                    'IsUsLaborDay': False,\n",
    "                    'IsBlackFriday': False,\n",
    "                    'IsChristmasDay': False\n",
    "                   } , ignore_index=True)"
   ]
  },
  {
   "cell_type": "markdown",
   "metadata": {},
   "source": [
    "# Add Lag features for prev 26 weeks"
   ]
  },
  {
   "cell_type": "code",
   "execution_count": null,
   "metadata": {},
   "outputs": [],
   "source": [
    "#add lag features\n",
    "#grab the prev 26 weeks and add to current row\n",
    "for index, item in df.iterrows():\n",
    "    for shift in range(1,27):\n",
    "        colName = 'Lag' + str(shift)\n",
    "        df[colName] = df['Value'].shift(shift)"
   ]
  },
  {
   "cell_type": "code",
   "execution_count": null,
   "metadata": {},
   "outputs": [],
   "source": [
    "predictionDf = df.tail(4).reset_index()\n",
    "predictionDf = predictionDf.drop(columns='index')\n",
    "predictionDf"
   ]
  },
  {
   "cell_type": "markdown",
   "metadata": {},
   "source": [
    "# Create Time Features"
   ]
  },
  {
   "cell_type": "code",
   "execution_count": null,
   "metadata": {},
   "outputs": [],
   "source": [
    "predictionDf['Year'] = pd.to_datetime(predictionDf['Time']).dt.year\n",
    "predictionDf['Month'] = pd.to_datetime(predictionDf['Time']).dt.month\n",
    "predictionDf['WeekOfMonth'] = pd.to_datetime(predictionDf['Time']).dt.day.apply(lambda day: math.ceil(int(day)/7))\n",
    "predictionDf['WeekOfYear'] = pd.to_datetime(predictionDf['Time']).dt.week"
   ]
  },
  {
   "cell_type": "code",
   "execution_count": null,
   "metadata": {},
   "outputs": [],
   "source": [
    "predictionDf[['Time','Year','WeekOfMonth','WeekOfYear']]"
   ]
  },
  {
   "cell_type": "markdown",
   "metadata": {},
   "source": [
    "# Create Holiday columns Values"
   ]
  },
  {
   "cell_type": "code",
   "execution_count": null,
   "metadata": {},
   "outputs": [],
   "source": [
    "def createHolidayFeatures(index):\n",
    "    for days in range(0,7):\n",
    "        newDate= predictionDf['Time'][index] + datetime.timedelta(days=days)\n",
    "        holiday = us_holidays.get(newDate);\n",
    "        if(holiday == \"Thanksgiving\"):\n",
    "            predictionDf['IsBlackFriday'][index] = 1\n",
    "        elif holiday == \"Labor Day\":\n",
    "            predictionDf['IsUsLaborDay'][index] = 1\n",
    "        elif holiday == \"Christmas Day\":\n",
    "            predictionDf['IsChristmasDay'][index] = 1\n",
    "        elif holiday == \"New Year's Day\":\n",
    "            predictionDf['IsUsNewYearsDay'][index] = 1"
   ]
  },
  {
   "cell_type": "code",
   "execution_count": null,
   "metadata": {},
   "outputs": [],
   "source": [
    "for index in range(len(predictionDf)):\n",
    "    createHolidayFeatures(index)"
   ]
  },
  {
   "cell_type": "code",
   "execution_count": null,
   "metadata": {},
   "outputs": [],
   "source": [
    "#print holidays\n",
    "predictionDf[['Time','IsBlackFriday','IsUsLaborDay','IsChristmasDay','IsUsNewYearsDay']]"
   ]
  },
  {
   "cell_type": "markdown",
   "metadata": {},
   "source": [
    "# Create Fourier Features"
   ]
  },
  {
   "cell_type": "code",
   "execution_count": null,
   "metadata": {},
   "outputs": [],
   "source": [
    "def createFourierFeatures(index, weekofyear):\n",
    "    #seasonality number weeks in year\n",
    "    seasonality = 52\n",
    "    #take index of data and mod seasonality. This gets the 0 to 51 weeks in a year\n",
    "    #calcWeekOfYear = index % seasonality\n",
    "    for s in range(1,5):\n",
    "        cosColName = ('FreqCos' + str(s))\n",
    "        sinColName = ('FreqSin' + str(s))\n",
    "        #fix this its taking too long\n",
    "        predictionDf[cosColName].loc[index] = math.cos(weekofyear*2*math.pi*s/seasonality)\n",
    "        predictionDf[sinColName].loc[index] = math.sin(weekofyear*2*math.pi*s/seasonality)"
   ]
  },
  {
   "cell_type": "code",
   "execution_count": null,
   "metadata": {},
   "outputs": [],
   "source": [
    "for index, weekofyear in predictionDf['WeekOfYear'].iteritems():\n",
    "    createFourierFeatures(index,weekofyear)"
   ]
  },
  {
   "cell_type": "code",
   "execution_count": null,
   "metadata": {},
   "outputs": [],
   "source": [
    "predictionDf[['FreqCos1', 'FreqSin1', 'FreqCos2', 'FreqSin2', 'FreqCos3', 'FreqSin3', 'FreqCos4', 'FreqSin4']]"
   ]
  },
  {
   "cell_type": "code",
   "execution_count": null,
   "metadata": {},
   "outputs": [],
   "source": [
    "#Optional: graph fourier features\n",
    "#sns.pointplot(x = 'Value', y = 'FreqCos1', data = df)\n",
    "#sns.pointplot(x = 'Value', y = 'FreqSin1', data = df)"
   ]
  },
  {
   "cell_type": "code",
   "execution_count": null,
   "metadata": {},
   "outputs": [],
   "source": [
    "#visualize the columns included in the df for debugging purposes\n",
    "#list(df.columns) "
   ]
  },
  {
   "cell_type": "markdown",
   "metadata": {},
   "source": [
    "# Filter Data and Create Dictionary for API Post"
   ]
  },
  {
   "cell_type": "code",
   "execution_count": null,
   "metadata": {},
   "outputs": [],
   "source": [
    "# Create Dictionary\n",
    "predictionDf['Time'] = predictionDf['Time'].astype(str)\n",
    "pre_dict = predictionDf.T.to_dict('dict')\n",
    "#print(pre_dict)"
   ]
  },
  {
   "cell_type": "markdown",
   "metadata": {},
   "source": [
    "# Create function to get prediction from API"
   ]
  },
  {
   "cell_type": "code",
   "execution_count": null,
   "metadata": {},
   "outputs": [],
   "source": [
    "\n",
    "import urllib.request\n",
    "import json\n",
    "import os\n",
    "import ssl\n",
    "\n",
    "def getPrediction(index):\n",
    "\n",
    "    #construct data object for post\n",
    "    data = {\n",
    "            \"Inputs\": {\"input0\":\n",
    "                          [\n",
    "                              pre_dict[index]\n",
    "                          ],\n",
    "                    },\n",
    "                    \"GlobalParameters\":  {\n",
    "                    }\n",
    "            }\n",
    "    #print(data)\n",
    "    body = str.encode(json.dumps(data))\n",
    "    \n",
    "    url = '<endpoint>'\n",
    "    api_key = '<key>' # Replace this with the API key for the web service\n",
    "    headers = {'Content-Type':'application/json', 'Authorization':('Bearer '+ api_key)}\n",
    "    \n",
    "    req = urllib.request.Request(url, body, headers)\n",
    "    \n",
    "    try:\n",
    "        response = urllib.request.urlopen(req)\n",
    "        result = response.read()\n",
    "        return json.loads(result)\n",
    "    except urllib.error.HTTPError as error:\n",
    "        print(f'The request failed with status code: {str(error.code)} Error Info {error.info()}')\n",
    "        print(json.loads(error.read().decode(\"utf8\", 'ignore')))"
   ]
  },
  {
   "cell_type": "markdown",
   "metadata": {},
   "source": [
    "# Get predictions"
   ]
  },
  {
   "cell_type": "code",
   "execution_count": null,
   "metadata": {},
   "outputs": [],
   "source": [
    "\n",
    "for index in range(4): \n",
    "    predictionResult = getPrediction(index)\n",
    "    #print(predictionResult)\n",
    "    prediction = math.ceil(predictionResult['Results']['WebServiceOutput0'][0]['Forecast'])\n",
    "    storeId = math.ceil(predictionResult['Results']['WebServiceOutput0'][0]['ID1'])\n",
    "    itemId = math.ceil(predictionResult['Results']['WebServiceOutput0'][0]['ID2'])\n",
    "    time = predictionDf['Time'][index]\n",
    "    print(f'For week {time} item {itemId} the prediction is {prediction} items in store {storeId}')"
   ]
  },
  {
   "cell_type": "code",
   "execution_count": null,
   "metadata": {},
   "outputs": [],
   "source": []
  }
 ],
 "metadata": {
  "kernelspec": {
   "display_name": "Python 3",
   "language": "python",
   "name": "python3"
  },
  "language_info": {
   "codemirror_mode": {
    "name": "ipython",
    "version": 3
   },
   "file_extension": ".py",
   "mimetype": "text/x-python",
   "name": "python",
   "nbconvert_exporter": "python",
   "pygments_lexer": "ipython3",
   "version": "3.6.9"
  }
 },
 "nbformat": 4,
 "nbformat_minor": 2
}
